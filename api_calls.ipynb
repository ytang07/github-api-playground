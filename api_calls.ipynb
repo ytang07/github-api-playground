{
 "cells": [
  {
   "cell_type": "code",
   "execution_count": 1,
   "metadata": {},
   "outputs": [],
   "source": [
    "from dotenv import load_dotenv\n",
    "import os\n",
    "load_dotenv()\n",
    "github_token = os.environ[\"GITHUB_TOKEN\"]"
   ]
  },
  {
   "cell_type": "code",
   "execution_count": 4,
   "metadata": {},
   "outputs": [],
   "source": [
    "from github import Github\n",
    "import pandas as pd\n",
    "\n",
    "# Initialize GitHub API with a token\n",
    "g = Github(github_token)"
   ]
  },
  {
   "cell_type": "code",
   "execution_count": 3,
   "metadata": {},
   "outputs": [],
   "source": [
    "def search_github_repos(keyword, min_stars=0, max_results=10):\n",
    "    repos = g.search_repositories(query=f\"{keyword} stars:>={min_stars}\")\n",
    "    results = []\n",
    "\n",
    "    for repo in repos[:max_results]:\n",
    "        results.append({\n",
    "            \"Name\": repo.name,\n",
    "            \"Owner\": repo.owner.login,\n",
    "            \"Stars\": repo.stargazers_count,\n",
    "            \"Description\": repo.description if repo.description else \"\",\n",
    "            \"URL\": repo.html_url\n",
    "        })\n",
    "\n",
    "    # Return as DataFrame for structured output\n",
    "    return pd.DataFrame(results)"
   ]
  },
  {
   "cell_type": "code",
   "execution_count": 16,
   "metadata": {},
   "outputs": [],
   "source": [
    "def get_repo_details(repo_name, repo_owner):\n",
    "    try:\n",
    "        print(f\"repo name and owner: {repo_name}, {repo_owner}\")\n",
    "        repo = g.get_repo(f\"{repo_owner}/{repo_name}\")\n",
    "\n",
    "        # Most recent fork\n",
    "        forks = repo.get_forks()\n",
    "        most_recent_fork = forks.get_page(0)\n",
    "\n",
    "        # Most recent commit\n",
    "        commits = repo.get_commits()\n",
    "        most_recent_commit = commits.get_page(0)\n",
    "\n",
    "        # Most recent open issue\n",
    "        open_issues = repo.get_issues(state='open')\n",
    "        most_recent_open_issue = open_issues.get_page(0)\n",
    "\n",
    "        # Most recent closed issue\n",
    "        closed_issues = repo.get_issues(state='closed')\n",
    "        most_recent_closed_issue = closed_issues.get_page(0)\n",
    "\n",
    "        details = {\n",
    "            \"Most Recent Forks\": most_recent_fork if most_recent_fork else \"N/A\",\n",
    "            \"Most Recent Commits\": most_recent_commit if most_recent_commit else \"N/A\",\n",
    "            \"Most Recent Committers\": most_recent_commit if most_recent_commit else \"N/A\",\n",
    "            \"Most Recent Open Issues\": most_recent_open_issue if most_recent_open_issue else \"N/A\",\n",
    "            \"Most Recent Closed Issues\": most_recent_closed_issue if most_recent_closed_issue else \"N/A\",\n",
    "        }\n",
    "        \n",
    "        return details\n",
    "\n",
    "    except Exception as e:\n",
    "        return {\"Error\": str(e)}"
   ]
  },
  {
   "cell_type": "code",
   "execution_count": 17,
   "metadata": {},
   "outputs": [
    {
     "name": "stdout",
     "output_type": "stream",
     "text": [
      "repo name and owner: ai_agents_cookbooks, ytang07\n"
     ]
    },
    {
     "data": {
      "text/plain": [
       "{'Error': \"'list' object has no attribute 'login'\"}"
      ]
     },
     "execution_count": 17,
     "metadata": {},
     "output_type": "execute_result"
    }
   ],
   "source": [
    "get_repo_details(\"ai_agents_cookbooks\", \"ytang07\")"
   ]
  },
  {
   "cell_type": "code",
   "execution_count": null,
   "metadata": {},
   "outputs": [],
   "source": []
  },
  {
   "cell_type": "code",
   "execution_count": null,
   "metadata": {},
   "outputs": [],
   "source": []
  }
 ],
 "metadata": {
  "kernelspec": {
   "display_name": "gh",
   "language": "python",
   "name": "python3"
  },
  "language_info": {
   "codemirror_mode": {
    "name": "ipython",
    "version": 3
   },
   "file_extension": ".py",
   "mimetype": "text/x-python",
   "name": "python",
   "nbconvert_exporter": "python",
   "pygments_lexer": "ipython3",
   "version": "3.12.3"
  }
 },
 "nbformat": 4,
 "nbformat_minor": 2
}
